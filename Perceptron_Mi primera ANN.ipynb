{
 "cells": [
  {
   "cell_type": "code",
   "execution_count": 3,
   "metadata": {},
   "outputs": [],
   "source": [
    "import numpy as np\n",
    "import random, os"
   ]
  },
  {
   "cell_type": "code",
   "execution_count": 33,
   "metadata": {},
   "outputs": [],
   "source": [
    "lr=1 #learning rate\n",
    "bias=1 #valor del BIAS\n",
    "weights=[random.random(), random.random(), random.random()] #lista con los PESOS: 3 pesos en total para 2 neuronas y 1 bias"
   ]
  },
  {
   "cell_type": "code",
   "execution_count": 34,
   "metadata": {},
   "outputs": [],
   "source": [
    "# Función que define la tarea de la neurona de salida\n",
    "# Recibe 3 parámetros: las 2 entradas y la salida esperada (label)\n",
    "def Perceptron(input1, input2, output, sigm=False):\n",
    "    Out_Perceptron=(input1*weights[0])+(input2*weights[1])+(bias*weights[2])\n",
    "    if sigm:\n",
    "        Out_Perceptron=1/(1+np.exp(-Out_Perceptron))\n",
    "    else:\n",
    "        if Out_Perceptron > 0:  #Función de activación Heaviside\n",
    "            Out_Perceptron=1\n",
    "        else:\n",
    "            Out_Perceptron=0\n",
    "    error=output - Out_Perceptron\n",
    "    weights[0]=weights[0]+(error*input1*lr)\n",
    "    weights[1]=weights[1]+(error*input2*lr)\n",
    "    weights[2]=weights[2]+(error*bias*lr)"
   ]
  },
  {
   "cell_type": "code",
   "execution_count": 47,
   "metadata": {},
   "outputs": [
    {
     "name": "stdout",
     "output_type": "stream",
     "text": [
      "[19.529079669353205, 19.529007020539854, -9.30639648961866]\n"
     ]
    }
   ],
   "source": [
    "# Entrenamiento del perceptrón (50 iteraciones)\n",
    "iter=50000\n",
    "for i in range(iter):\n",
    "    Perceptron(1,1,1,sigm=True)\n",
    "    Perceptron(1,0,1,sigm=True)\n",
    "    Perceptron(0,1,1,sigm=True)\n",
    "    Perceptron(0,0,0,sigm=True)\n",
    "print(weights)"
   ]
  },
  {
   "cell_type": "code",
   "execution_count": 49,
   "metadata": {},
   "outputs": [
    {
     "name": "stdin",
     "output_type": "stream",
     "text": [
      " 1\n",
      " 1\n"
     ]
    },
    {
     "name": "stdout",
     "output_type": "stream",
     "text": [
      "1 or 1 = 0.9999999999998801\n"
     ]
    }
   ],
   "source": [
    "# Test del perceptrón\n",
    "Uso_Sigm=True\n",
    "x = int(input())\n",
    "y = int(input())\n",
    "Out_Perceptron=(x*weights[0])+(y*weights[1])+(bias*weights[2])\n",
    "if Uso_Sigm:\n",
    "    Out_Perceptron=1/(1+np.exp(-Out_Perceptron))\n",
    "else:\n",
    "    if Out_Perceptron > 0:  #Función de activación Heaviside\n",
    "        Out_Perceptron=1\n",
    "    else:\n",
    "        Out_Perceptron=0\n",
    "print(x, \"or\", y, \"=\", Out_Perceptron)"
   ]
  },
  {
   "cell_type": "code",
   "execution_count": 4,
   "metadata": {},
   "outputs": [
    {
     "data": {
      "text/plain": [
       "0.8175744761936437"
      ]
     },
     "execution_count": 4,
     "metadata": {},
     "output_type": "execute_result"
    }
   ],
   "source": [
    "1/(1+np.exp(-1.5))"
   ]
  },
  {
   "cell_type": "code",
   "execution_count": null,
   "metadata": {},
   "outputs": [],
   "source": []
  }
 ],
 "metadata": {
  "kernelspec": {
   "display_name": "Python 3",
   "language": "python",
   "name": "python3"
  },
  "language_info": {
   "codemirror_mode": {
    "name": "ipython",
    "version": 3
   },
   "file_extension": ".py",
   "mimetype": "text/x-python",
   "name": "python",
   "nbconvert_exporter": "python",
   "pygments_lexer": "ipython3",
   "version": "3.8.5"
  }
 },
 "nbformat": 4,
 "nbformat_minor": 4
}
